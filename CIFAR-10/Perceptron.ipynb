{
  "nbformat": 4,
  "nbformat_minor": 0,
  "metadata": {
    "colab": {
      "name": "Atividade 1 - André Z. Dalla Costa.ipynb",
      "version": "0.3.2",
      "provenance": [],
      "collapsed_sections": []
    },
    "kernelspec": {
      "name": "python3",
      "display_name": "Python 3"
    },
    "accelerator": "GPU"
  },
  "cells": [
    {
      "metadata": {
        "colab_type": "text",
        "id": "l5M_pAXNVTor"
      },
      "cell_type": "markdown",
      "source": [
        "# Objetivos deste trabalho:\n",
        "- Se familiarizar com o ambiente Notebook e com Python\n",
        "- Implementar um perceptron simples, treiná-lo no conjunto de TREINO do CIFAR-10 e avaliá-lo no conjunto de TESTE (alvo: distinguir fotos de animais de meios de transporte)\n",
        "- Utilizar a função sigmóide e verificar seu efeito no treinamento e na avaliação\n",
        "- Modificar a metodologia para classificar cada classe individualmente (i.e. treinar 10 perceptrons, um para cada classe). Considerar: dado um exemplo, que passará por cada perceptron, como decidir qual é a classe dele?"
      ]
    },
    {
      "metadata": {
        "colab_type": "code",
        "id": "jBniDj4IVTow",
        "outputId": "94932b80-6f9a-463f-c007-b9a776a971bf",
        "colab": {
          "base_uri": "https://localhost:8080/",
          "height": 34
        }
      },
      "cell_type": "code",
      "source": [
        "%matplotlib inline\n",
        "\n",
        "import torch\n",
        "import torchvision\n",
        "import numpy as np\n",
        "import pandas as pd\n",
        "import seaborn as sn\n",
        "from sklearn.metrics import confusion_matrix\n",
        "\n",
        "np.seterr(all='raise')"
      ],
      "execution_count": 30,
      "outputs": [
        {
          "output_type": "execute_result",
          "data": {
            "text/plain": [
              "{'divide': 'raise', 'invalid': 'raise', 'over': 'raise', 'under': 'raise'}"
            ]
          },
          "metadata": {
            "tags": []
          },
          "execution_count": 30
        }
      ]
    },
    {
      "metadata": {
        "colab_type": "code",
        "id": "WVEli4vDVTo6",
        "outputId": "2d2ad72d-e45b-4857-a55f-8e636f6a2535",
        "colab": {
          "base_uri": "https://localhost:8080/",
          "height": 51
        }
      },
      "cell_type": "code",
      "source": [
        "# Carregar os datasets\n",
        "\n",
        "dataset_train = torchvision.datasets.CIFAR10(root='./data', train=True,\n",
        "                                        download=True)\n",
        "\n",
        "dataset_test = torchvision.datasets.CIFAR10(root='./data', train=False,\n",
        "                                        download=True)"
      ],
      "execution_count": 31,
      "outputs": [
        {
          "output_type": "stream",
          "text": [
            "Files already downloaded and verified\n",
            "Files already downloaded and verified\n"
          ],
          "name": "stdout"
        }
      ]
    },
    {
      "metadata": {
        "colab_type": "code",
        "id": "3VE98VjfVTpA",
        "colab": {}
      },
      "cell_type": "code",
      "source": [
        "classes = ('plane', 'car', 'bird', 'cat',\n",
        "           'deer', 'dog', 'frog', 'horse', 'ship', 'truck')"
      ],
      "execution_count": 0,
      "outputs": []
    },
    {
      "metadata": {
        "colab_type": "code",
        "id": "g2EAnszzVTpD",
        "outputId": "2dba2fb0-bc3e-4311-ca55-f0f2936cee2e",
        "colab": {
          "base_uri": "https://localhost:8080/",
          "height": 34
        }
      },
      "cell_type": "code",
      "source": [
        "print(len(dataset_train), len(dataset_test))"
      ],
      "execution_count": 33,
      "outputs": [
        {
          "output_type": "stream",
          "text": [
            "50000 10000\n"
          ],
          "name": "stdout"
        }
      ]
    },
    {
      "metadata": {
        "colab_type": "code",
        "id": "E4FKOxUCVTpH",
        "colab": {}
      },
      "cell_type": "code",
      "source": [
        "# Converter para tons de cinza\n",
        "\n",
        "# Treino\n",
        "grayscale_dataset_train = []\n",
        "for img,label in dataset_train:\n",
        "    category = classes[label]\n",
        "    gray_npimg = np.array(img.convert('L'))\n",
        "    grayscale_dataset_train.append((gray_npimg,category))\n",
        "    \n",
        "# Teste\n",
        "grayscale_dataset_test = []\n",
        "for img,label in dataset_test:\n",
        "    category = classes[label]\n",
        "    gray_npimg = np.array(img.convert('L'))\n",
        "    grayscale_dataset_test.append((gray_npimg,category))    "
      ],
      "execution_count": 0,
      "outputs": []
    },
    {
      "metadata": {
        "colab_type": "code",
        "id": "OX0V2wqfVTpJ",
        "outputId": "f5239d53-c11a-47dc-dd48-f453c25ff269",
        "colab": {
          "base_uri": "https://localhost:8080/",
          "height": 297
        }
      },
      "cell_type": "code",
      "source": [
        "# Mostrar uma imagem\n",
        "\n",
        "import matplotlib.pyplot as plt\n",
        "import numpy as np\n",
        "\n",
        "image_index = 0\n",
        "label = grayscale_dataset_test[image_index][1]\n",
        "npimg = grayscale_dataset_test[image_index][0]\n",
        "\n",
        "plt.imshow(npimg, cmap='gray')\n",
        "plt.title(label)\n",
        "plt.show()\n",
        "print(label)"
      ],
      "execution_count": 35,
      "outputs": [
        {
          "output_type": "display_data",
          "data": {
            "image/png": "[encoded data removed]",
            "text/plain": [
              "<Figure size 432x288 with 1 Axes>"
            ]
          },
          "metadata": {
            "tags": []
          }
        },
        {
          "output_type": "stream",
          "text": [
            "cat\n"
          ],
          "name": "stdout"
        }
      ]
    },
    {
      "metadata": {
        "colab_type": "code",
        "id": "VTWFdcGCVTpN",
        "colab": {}
      },
      "cell_type": "code",
      "source": [
        "# Converter para vetores 1D\n",
        "\n",
        "# Para pensar: por que a divisão por 255 no código abaixo?\n",
        "\n",
        "linear_dataset_train = []\n",
        "target_labels = ('plane', 'car', 'ship', 'truck')\n",
        "bias_in = 1 \n",
        "for img,category in grayscale_dataset_train:\n",
        "    linear_img = img.reshape(img.shape[0]*img.shape[1],1) / 255\n",
        "    if category in target_labels:\n",
        "        label = 1\n",
        "    else:\n",
        "        label = 0\n",
        "    linear_img = np.append(linear_img, bias_in)\n",
        "    linear_dataset_train.append((linear_img,label))\n",
        "    \n",
        "linear_dataset_test = []\n",
        "target_labels = ('plane', 'car', 'ship', 'truck')\n",
        "\n",
        "for img,category in grayscale_dataset_test:\n",
        "    linear_img = img.reshape(img.shape[0]*img.shape[1],1) / 255\n",
        "    if category in target_labels:\n",
        "        label = 1\n",
        "    else:\n",
        "        label = 0\n",
        "    linear_img = np.append(linear_img, bias_in)\n",
        "    linear_dataset_test.append((linear_img,label))\n",
        "\n",
        "    \n",
        "for img, label in linear_dataset_train:\n",
        "    img = np.append(img, bias_in)\n",
        "    \n",
        "np.random.shuffle(linear_dataset_train)\n",
        "np.random.shuffle(linear_dataset_test)"
      ],
      "execution_count": 0,
      "outputs": []
    },
    {
      "metadata": {
        "colab_type": "code",
        "id": "jjH4_RLwVTpQ",
        "outputId": "d0bf198a-4654-47a5-d29e-f634f297adaa",
        "colab": {
          "base_uri": "https://localhost:8080/",
          "height": 34
        }
      },
      "cell_type": "code",
      "source": [
        "size = len(linear_dataset_train[0][0])\n",
        "print(size)"
      ],
      "execution_count": 37,
      "outputs": [
        {
          "output_type": "stream",
          "text": [
            "1025\n"
          ],
          "name": "stdout"
        }
      ]
    },
    {
      "metadata": {
        "colab_type": "text",
        "id": "0US90NHgVTpT"
      },
      "cell_type": "markdown",
      "source": [
        "# Definindo o perceptron"
      ]
    },
    {
      "metadata": {
        "colab_type": "code",
        "id": "GwGbhTMPVTpU",
        "colab": {}
      },
      "cell_type": "code",
      "source": [
        "def sigmoid(x):\n",
        "    return 1/(1+np.exp(-x))\n",
        "\n",
        "def perceptron(inputs, weights):\n",
        "    o = np.dot(inputs, weights)\n",
        "    y = sigmoid(o)\n",
        "    return y"
      ],
      "execution_count": 0,
      "outputs": []
    },
    {
      "metadata": {
        "colab_type": "text",
        "id": "3MxDrgsvVTpW"
      },
      "cell_type": "markdown",
      "source": [
        "# Treinando o perceptron"
      ]
    },
    {
      "metadata": {
        "colab_type": "code",
        "id": "WIV9j3ToVTpX",
        "colab": {}
      },
      "cell_type": "code",
      "source": [
        "def evaluate(weights,dataset):\n",
        "    erro_total = 0\n",
        "    for img,label in dataset:\n",
        "        y = perceptron(img, weights)\n",
        "        erro = abs(label-y)\n",
        "        if(erro < 0.5):\n",
        "            erro = 0\n",
        "        else:\n",
        "            erro = 1\n",
        "        erro_total += erro\n",
        "    return 100-erro_total*100/len(dataset)"
      ],
      "execution_count": 0,
      "outputs": []
    },
    {
      "metadata": {
        "colab_type": "code",
        "id": "7SuEh4aUVTpZ",
        "colab": {}
      },
      "cell_type": "code",
      "source": [
        "# Inicialização\n",
        "weights = (np.random.rand(1,size) - 0.5)[0]\n",
        "neta = 0.000001\n",
        "i = 0\n",
        "# Implemente o treino aqui (para separar as duas classes definidas)\n",
        "accuracies = []\n",
        "for epoch in range(100):\n",
        "    for img, label in linear_dataset_train[:30000]:\n",
        "        y = perceptron(img, weights)\n",
        "        error = label - y\n",
        "        weights += error * neta * img * (1 - img)\n",
        "    if(epoch == i):\n",
        "        taxa = evaluate(weights, linear_dataset_train[30000:])\n",
        "        accuracies.append(taxa)\n",
        "        i += 10"
      ],
      "execution_count": 0,
      "outputs": []
    },
    {
      "metadata": {
        "colab_type": "code",
        "id": "pcQZQSUhVTpe",
        "outputId": "0d88e1f5-14d5-4472-9729-8c90f74eb718",
        "colab": {
          "base_uri": "https://localhost:8080/",
          "height": 34
        }
      },
      "cell_type": "code",
      "source": [
        "# Avalie o modelo treinado aqui\n",
        "# Como a acurácia no conjunto de teste se compara com a acurácia obtida no conjunto de treino?\n",
        "acerto = evaluate(weights, linear_dataset_test)\n",
        "print(\"O acerto foi de {}%\".format(acerto))"
      ],
      "execution_count": 41,
      "outputs": [
        {
          "output_type": "stream",
          "text": [
            "O acerto foi de 60.93%\n"
          ],
          "name": "stdout"
        }
      ]
    },
    {
      "metadata": {
        "colab_type": "code",
        "id": "v5UWGM7IVTpi",
        "outputId": "bc194c1e-5820-4309-c902-bae86581d8f3",
        "scrolled": true,
        "colab": {
          "base_uri": "https://localhost:8080/",
          "height": 282
        }
      },
      "cell_type": "code",
      "source": [
        "# Caso queiram plotar alguma coisa\n",
        "#Acccuracies em cada 10 epochs de treinamento\n",
        "import matplotlib.pyplot as plt\n",
        "plt.plot(accuracies)\n",
        "print(len(accuracies))"
      ],
      "execution_count": 42,
      "outputs": [
        {
          "output_type": "stream",
          "text": [
            "10\n"
          ],
          "name": "stdout"
        },
        {
          "output_type": "display_data",
          "data": {
            "image/png": "[encoded data removed]",
            "text/plain": [
              "<Figure size 432x288 with 1 Axes>"
            ]
          },
          "metadata": {
            "tags": []
          }
        }
      ]
    },
    {
      "metadata": {
        "colab_type": "text",
        "id": "OtnpOmGLVTpl"
      },
      "cell_type": "markdown",
      "source": [
        "# Classificando classes individuais\n",
        "\n",
        "Implemente aqui a modificação do processo de avaliação e treinamento para poder classificar cada classe individualmente.\n",
        "\n",
        "- Ideia geral: treinar um perceptron por classe (exemplo positivo = exemplos da classe; exemplos negativos = exemplo de todas outras classes)\n",
        "- Dado um exemplo qualquer, como decidir qual perceptron está dando a classe correta?"
      ]
    },
    {
      "metadata": {
        "id": "rqvja9Q1Louf",
        "colab_type": "code",
        "colab": {}
      },
      "cell_type": "code",
      "source": [
        "def def_dataset_train(grayscale_dataset_train, classe, bias):\n",
        "    current_dataset_train = []\n",
        "    for img, category in grayscale_dataset_train:\n",
        "        linear_img = img.reshape(img.shape[0]*img.shape[1],1) / 255\n",
        "        if(category == classe):\n",
        "            label = 1\n",
        "        else:\n",
        "            label = 0\n",
        "        linear_img = np.append(linear_img, bias)\n",
        "        current_dataset_train.append((linear_img,label))\n",
        "    np.random.shuffle(current_dataset_train)\n",
        "    return current_dataset_train\n",
        "\n",
        "def def_dataset_test(grayscale_dataset_test, classe, bias):\n",
        "    current_dataset_test = []\n",
        "    for img, category in grayscale_dataset_test:\n",
        "        linear_img = img.reshape(img.shape[0]*img.shape[1],1) / 255\n",
        "        if(category == classe):\n",
        "            label = 1\n",
        "        else:\n",
        "            label = 0\n",
        "        linear_img = np.append(linear_img, bias)\n",
        "        current_dataset_test.append((linear_img,label))\n",
        "    np.random.shuffle(current_dataset_test)\n",
        "    return current_dataset_test"
      ],
      "execution_count": 0,
      "outputs": []
    },
    {
      "metadata": {
        "colab_type": "code",
        "id": "REBA7kz-VTpt",
        "outputId": "cc31a0c4-dd99-4084-b5cd-e3f660609157",
        "colab": {
          "base_uri": "https://localhost:8080/",
          "height": 1887
        }
      },
      "cell_type": "code",
      "source": [
        "weights_vet = []\n",
        "j = 0;\n",
        "neta = 0.000001\n",
        "for classe in classes:\n",
        "    current_dataset_train = def_dataset_train(grayscale_dataset_train, classe, 1)\n",
        "    current_dataset_test = def_dataset_test(grayscale_dataset_train, classe, 1)\n",
        "    current_weights = (np.random.rand(1,size) - 0.5)[0]\n",
        "\n",
        "    for epoch in range(100):\n",
        "        for img, label in current_dataset_train[:30000]:\n",
        "            y = perceptron(img, current_weights)\n",
        "            error = label - y\n",
        "            current_weights += error * neta * img * (1 - img)\n",
        "        if((epoch%10)==0):\n",
        "            print(\"a taxa na epoca {} para {} foi: {}%\".format(epoch, classe, evaluate(current_weights, current_dataset_train[30000:])))\n",
        "\n",
        "    acerto = evaluate(current_weights, current_dataset_test)\n",
        "    print(\"O acerto foi de {}% para a classe {}\".format(acerto, classe))\n",
        "    weights_vet.append(current_weights)"
      ],
      "execution_count": 48,
      "outputs": [
        {
          "output_type": "stream",
          "text": [
            "a taxa na epoca 0 para plane foi: 10.340000000000003%\n",
            "a taxa na epoca 10 para plane foi: 80.395%\n",
            "a taxa na epoca 20 para plane foi: 83.785%\n",
            "a taxa na epoca 30 para plane foi: 84.305%\n",
            "a taxa na epoca 40 para plane foi: 84.465%\n",
            "a taxa na epoca 50 para plane foi: 84.53999999999999%\n",
            "a taxa na epoca 60 para plane foi: 84.535%\n",
            "a taxa na epoca 70 para plane foi: 84.545%\n",
            "a taxa na epoca 80 para plane foi: 84.565%\n",
            "a taxa na epoca 90 para plane foi: 84.57%\n",
            "O acerto foi de 84.672% para a classe plane\n",
            "a taxa na epoca 0 para car foi: 13.799999999999997%\n",
            "a taxa na epoca 10 para car foi: 86.51%\n",
            "a taxa na epoca 20 para car foi: 87.59%\n",
            "a taxa na epoca 30 para car foi: 87.73%\n",
            "a taxa na epoca 40 para car foi: 87.755%\n",
            "a taxa na epoca 50 para car foi: 87.755%\n",
            "a taxa na epoca 60 para car foi: 87.77%\n",
            "a taxa na epoca 70 para car foi: 87.785%\n",
            "a taxa na epoca 80 para car foi: 87.785%\n",
            "a taxa na epoca 90 para car foi: 87.8%\n",
            "O acerto foi de 87.584% para a classe car\n",
            "a taxa na epoca 0 para bird foi: 89.77%\n",
            "a taxa na epoca 10 para bird foi: 88.66%\n",
            "a taxa na epoca 20 para bird foi: 87.205%\n",
            "a taxa na epoca 30 para bird foi: 86.765%\n",
            "a taxa na epoca 40 para bird foi: 86.715%\n",
            "a taxa na epoca 50 para bird foi: 86.73%\n",
            "a taxa na epoca 60 para bird foi: 86.725%\n",
            "a taxa na epoca 70 para bird foi: 86.745%\n",
            "a taxa na epoca 80 para bird foi: 86.77%\n",
            "a taxa na epoca 90 para bird foi: 86.775%\n",
            "O acerto foi de 86.74% para a classe bird\n",
            "a taxa na epoca 0 para cat foi: 65.72%\n",
            "a taxa na epoca 10 para cat foi: 82.52%\n",
            "a taxa na epoca 20 para cat foi: 84.09%\n",
            "a taxa na epoca 30 para cat foi: 84.4%\n",
            "a taxa na epoca 40 para cat foi: 84.475%\n",
            "a taxa na epoca 50 para cat foi: 84.45%\n",
            "a taxa na epoca 60 para cat foi: 84.4%\n",
            "a taxa na epoca 70 para cat foi: 84.39%\n",
            "a taxa na epoca 80 para cat foi: 84.385%\n",
            "a taxa na epoca 90 para cat foi: 84.36%\n",
            "O acerto foi de 84.306% para a classe cat\n",
            "a taxa na epoca 0 para deer foi: 16.129999999999995%\n",
            "a taxa na epoca 10 para deer foi: 83.66499999999999%\n",
            "a taxa na epoca 20 para deer foi: 85.175%\n",
            "a taxa na epoca 30 para deer foi: 85.34%\n",
            "a taxa na epoca 40 para deer foi: 85.35%\n",
            "a taxa na epoca 50 para deer foi: 85.355%\n",
            "a taxa na epoca 60 para deer foi: 85.37%\n",
            "a taxa na epoca 70 para deer foi: 85.36%\n",
            "a taxa na epoca 80 para deer foi: 85.345%\n",
            "a taxa na epoca 90 para deer foi: 85.325%\n",
            "O acerto foi de 85.604% para a classe deer\n",
            "a taxa na epoca 0 para dog foi: 44.675%\n",
            "a taxa na epoca 10 para dog foi: 84.425%\n",
            "a taxa na epoca 20 para dog foi: 85.86%\n",
            "a taxa na epoca 30 para dog foi: 86.16499999999999%\n",
            "a taxa na epoca 40 para dog foi: 86.225%\n",
            "a taxa na epoca 50 para dog foi: 86.28999999999999%\n",
            "a taxa na epoca 60 para dog foi: 86.325%\n",
            "a taxa na epoca 70 para dog foi: 86.31%\n",
            "a taxa na epoca 80 para dog foi: 86.345%\n",
            "a taxa na epoca 90 para dog foi: 86.365%\n",
            "O acerto foi de 86.05799999999999% para a classe dog\n",
            "a taxa na epoca 0 para frog foi: 11.090000000000003%\n",
            "a taxa na epoca 10 para frog foi: 83.34%\n",
            "a taxa na epoca 20 para frog foi: 85.3%\n",
            "a taxa na epoca 30 para frog foi: 85.655%\n",
            "a taxa na epoca 40 para frog foi: 85.72%\n",
            "a taxa na epoca 50 para frog foi: 85.735%\n",
            "a taxa na epoca 60 para frog foi: 85.74%\n",
            "a taxa na epoca 70 para frog foi: 85.72%\n",
            "a taxa na epoca 80 para frog foi: 85.745%\n",
            "a taxa na epoca 90 para frog foi: 85.745%\n",
            "O acerto foi de 85.486% para a classe frog\n",
            "a taxa na epoca 0 para horse foi: 35.91%\n",
            "a taxa na epoca 10 para horse foi: 85.63%\n",
            "a taxa na epoca 20 para horse foi: 86.625%\n",
            "a taxa na epoca 30 para horse foi: 86.805%\n",
            "a taxa na epoca 40 para horse foi: 86.905%\n",
            "a taxa na epoca 50 para horse foi: 86.95%\n",
            "a taxa na epoca 60 para horse foi: 87.01%\n",
            "a taxa na epoca 70 para horse foi: 87.05%\n",
            "a taxa na epoca 80 para horse foi: 87.045%\n",
            "a taxa na epoca 90 para horse foi: 87.115%\n",
            "O acerto foi de 86.806% para a classe horse\n",
            "a taxa na epoca 0 para ship foi: 89.445%\n",
            "a taxa na epoca 10 para ship foi: 88.495%\n",
            "a taxa na epoca 20 para ship foi: 86.66%\n",
            "a taxa na epoca 30 para ship foi: 85.135%\n",
            "a taxa na epoca 40 para ship foi: 84.325%\n",
            "a taxa na epoca 50 para ship foi: 84.1%\n",
            "a taxa na epoca 60 para ship foi: 84.06%\n",
            "a taxa na epoca 70 para ship foi: 84.065%\n",
            "a taxa na epoca 80 para ship foi: 84.08500000000001%\n",
            "a taxa na epoca 90 para ship foi: 84.12%\n",
            "O acerto foi de 84.194% para a classe ship\n",
            "a taxa na epoca 0 para truck foi: 33.39%\n",
            "a taxa na epoca 10 para truck foi: 84.83500000000001%\n",
            "a taxa na epoca 20 para truck foi: 86.255%\n",
            "a taxa na epoca 30 para truck foi: 86.485%\n",
            "a taxa na epoca 40 para truck foi: 86.55%\n",
            "a taxa na epoca 50 para truck foi: 86.59%\n",
            "a taxa na epoca 60 para truck foi: 86.605%\n",
            "a taxa na epoca 70 para truck foi: 86.63%\n",
            "a taxa na epoca 80 para truck foi: 86.64%\n",
            "a taxa na epoca 90 para truck foi: 86.64%\n",
            "O acerto foi de 86.622% para a classe truck\n"
          ],
          "name": "stdout"
        }
      ]
    },
    {
      "metadata": {
        "colab_type": "code",
        "id": "NNXSaul87xfI",
        "colab": {}
      },
      "cell_type": "code",
      "source": [
        "def define_classe(indice):\n",
        "    if indice == 0:\n",
        "        return 'plane'\n",
        "    if indice == 1:\n",
        "        return 'car'\n",
        "    if indice == 2:\n",
        "        return 'bird'\n",
        "    if indice == 3:\n",
        "        return 'cat'\n",
        "    if indice == 4:\n",
        "        return 'deer'\n",
        "    if indice == 5:\n",
        "        return 'dog'\n",
        "    if indice == 6:\n",
        "        return 'frog'\n",
        "    if indice == 7:\n",
        "        return 'horse'\n",
        "    if indice == 8:\n",
        "        return 'ship'\n",
        "    if indice == 9:\n",
        "        return 'truck'"
      ],
      "execution_count": 0,
      "outputs": []
    },
    {
      "metadata": {
        "colab_type": "code",
        "id": "iogx2NPTVTp0",
        "outputId": "ecb9dc39-aa58-4eb8-c40e-89cbb15f4bef",
        "colab": {
          "base_uri": "https://localhost:8080/",
          "height": 34
        }
      },
      "cell_type": "code",
      "source": [
        "erro = 0\n",
        "bias = 1\n",
        "respostas = []\n",
        "for img, label in grayscale_dataset_test: \n",
        "    outs = []\n",
        "    img = img.reshape(img.shape[0]*img.shape[1],1) / 255\n",
        "    img = np.append(img, bias)\n",
        "    for weight in weights_vet:\n",
        "        y = perceptron(img, weight)\n",
        "        outs.append(y)\n",
        "    chute = outs.index(max(outs))\n",
        "    classe = define_classe(chute)\n",
        "    respostas.append(classe)\n",
        "    if(classe != label):\n",
        "        erro += 1\n",
        "print(\"A taxa de acerto final foi de {}%\".format(100-erro*100/10000))\n",
        "    "
      ],
      "execution_count": 50,
      "outputs": [
        {
          "output_type": "stream",
          "text": [
            "A taxa de acerto final foi de 9.900000000000006%\n"
          ],
          "name": "stdout"
        }
      ]
    },
    {
      "metadata": {
        "id": "1nzyevDxz8Se",
        "colab_type": "code",
        "colab": {
          "base_uri": "https://localhost:8080/",
          "height": 445
        },
        "outputId": "71871803-ca66-43fa-dac9-6505e19ceebd"
      },
      "cell_type": "code",
      "source": [
        "esperados = []\n",
        "for img, label in grayscale_dataset_test:\n",
        "    esperados.append(label)\n",
        "\n",
        "array = confusion_matrix(esperados, respostas)\n",
        "df_cm = pd.DataFrame(array, index = [i for i in classes], columns = [i for i in classes])\n",
        "plt.figure(figsize = (10, 7))\n",
        "sn.heatmap(df_cm, annot = True, cmap=\"inferno\", fmt= \"d\")"
      ],
      "execution_count": 51,
      "outputs": [
        {
          "output_type": "execute_result",
          "data": {
            "text/plain": [
              "<matplotlib.axes._subplots.AxesSubplot at 0x7f3ea0ad9940>"
            ]
          },
          "metadata": {
            "tags": []
          },
          "execution_count": 51
        },
        {
          "output_type": "display_data",
          "data": {
            "image/png": "[encoded data removed]",
            "text/plain": [
              "<Figure size 720x504 with 2 Axes>"
            ]
          },
          "metadata": {
            "tags": []
          }
        }
      ]
    }
  ]
}