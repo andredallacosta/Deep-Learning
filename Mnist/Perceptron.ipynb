{
 "cells": [
  {
   "cell_type": "code",
   "execution_count": 1,
   "metadata": {},
   "outputs": [],
   "source": [
    "import numpy as np\n",
    "import pandas as pd\n",
    "import math\n",
    "\n",
    "def sigmoid(x):\n",
    "    return (1 / (1 + np.exp(-x)))\n",
    "\n",
    "df = pd.read_csv('mnist_train.csv')\n",
    "df_test = pd.read_csv('mnist_test.csv')"
   ]
  },
  {
   "cell_type": "code",
   "execution_count": 2,
   "metadata": {},
   "outputs": [],
   "source": [
    "epochs = 200\n",
    "lr = 0.01\n",
    "lista_pesos = []\n",
    "for digito in range (10):   \n",
    "\n",
    "    selecao = df['5'] == digito\n",
    "    label_igual = df[selecao].copy()\n",
    "    sample_len = label_igual.shape[0]\n",
    "    label_igual['5'] = 1\n",
    "\n",
    "    for i in range(10):\n",
    "        if i != digito:\n",
    "            selecao = df['5'] == i\n",
    "            label_diferente = df[selecao].copy()\n",
    "            label_diferente['5'] = 0\n",
    "            label_igual = pd.concat([label_igual, label_diferente.sample(int(sample_len/9))])\n",
    "\n",
    "    df_train = label_igual.sample(frac = 1).reset_index(drop = True)\n",
    "\n",
    "    y_train = df_train.iloc[:, :1].values\n",
    "    \n",
    "    x_train = df_train.iloc[:, 1:]\n",
    "    x_train['bias'] = 1\n",
    "    x_train = x_train.values/255\n",
    "    \n",
    "    w = np.random.normal(0, 0.5, x_train.shape[1])\n",
    "    \n",
    "    for i in range(epochs):\n",
    "        j = 0\n",
    "        for row_atual in x_train:\n",
    "            net = np.dot(row_atual, w)\n",
    "            a = sigmoid(net)\n",
    "            delta = y_train[j] - a\n",
    "            w = w + lr * delta * row_atual\n",
    "            j += 1\n",
    "    lista_pesos.append(w)"
   ]
  },
  {
   "cell_type": "code",
   "execution_count": 4,
   "metadata": {},
   "outputs": [
    {
     "name": "stdout",
     "output_type": "stream",
     "text": [
      "A taxa para o digito 0 foi de [96.90806793]%\n",
      "A taxa para o digito 1 foi de [97.99093113]%\n",
      "A taxa para o digito 2 foi de [88.30218588]%\n",
      "A taxa para o digito 3 foi de [86.94225519]%\n",
      "A taxa para o digito 4 foi de [93.62810684]%\n",
      "A taxa para o digito 5 foi de [91.9115567]%\n",
      "A taxa para o digito 6 foi de [95.32410353]%\n",
      "A taxa para o digito 7 foi de [95.62090781]%\n",
      "A taxa para o digito 8 foi de [84.73142926]%\n",
      "A taxa para o digito 9 foi de [83.96986695]%\n"
     ]
    }
   ],
   "source": [
    "for digito in range(10):    \n",
    "\n",
    "    selecao = df_test['7'] == digito\n",
    "    label_igual = df_test[selecao].copy()\n",
    "    label_igual['7'] = 1\n",
    "    label_diferente = df_test[~selecao].copy()\n",
    "    label_diferente['7'] = 0\n",
    "    df_test_certo = pd.concat([label_igual, label_diferente])\n",
    "\n",
    "    x_test = df_test_certo.iloc[:,1:]\n",
    "    x_test['bias'] = 1\n",
    "    x_test = x_test.values/255\n",
    "    y_test = df_test_certo.iloc[:, :1].values\n",
    "\n",
    "    erro = 0\n",
    "    j = 0\n",
    "    for row_atual in x_test:\n",
    "        net = np.dot(row_atual, lista_pesos[digito])\n",
    "        a = sigmoid(net)\n",
    "        delta = y_test[j] - a\n",
    "        erro += abs(delta)\n",
    "        j += 1\n",
    "    print(\"A taxa para o digito {} foi de {}%\".format(digito, 100-erro*100/df_test.shape[0]))"
   ]
  },
  {
   "cell_type": "code",
   "execution_count": null,
   "metadata": {},
   "outputs": [],
   "source": []
  }
 ],
 "metadata": {
  "kernelspec": {
   "display_name": "Python 3",
   "language": "python",
   "name": "python3"
  },
  "language_info": {
   "codemirror_mode": {
    "name": "ipython",
    "version": 3
   },
   "file_extension": ".py",
   "mimetype": "text/x-python",
   "name": "python",
   "nbconvert_exporter": "python",
   "pygments_lexer": "ipython3",
   "version": "3.6.5"
  }
 },
 "nbformat": 4,
 "nbformat_minor": 2
}
